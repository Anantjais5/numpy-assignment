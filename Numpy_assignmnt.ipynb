{
  "nbformat": 4,
  "nbformat_minor": 0,
  "metadata": {
    "colab": {
      "provenance": []
    },
    "kernelspec": {
      "name": "python3",
      "display_name": "Python 3"
    },
    "language_info": {
      "name": "python"
    }
  },
  "cells": [
    {
      "cell_type": "code",
      "source": [],
      "metadata": {
        "id": "GAT3U1sUmDE0"
      },
      "execution_count": null,
      "outputs": []
    },
    {
      "cell_type": "markdown",
      "source": [
        "#Theroetical questios"
      ],
      "metadata": {
        "id": "ZVtzEkWGl4qt"
      }
    },
    {
      "cell_type": "markdown",
      "source": [
        "1. Explain the purpose and advantages of NumPy in scientific computing and data analysis. How does it\n",
        "enhance Python's capabilities for numerical operations?"
      ],
      "metadata": {
        "id": "adhnKKi4mEQA"
      }
    },
    {
      "cell_type": "code",
      "source": [
        "#NumPy is a fundamental library in Python for scientific computing and data analysis, providing efficient and versatile tools for working with numerical arrays and matrices.\n",
        "#Its core purpose is to introduce high-performance multidimensional arrays and a collection of mathematical functions to operate on these arrays."
      ],
      "metadata": {
        "id": "SQ7n3Ij2mGAF"
      },
      "execution_count": null,
      "outputs": []
    },
    {
      "cell_type": "markdown",
      "source": [
        "2. Compare and contrast np.mean() and np.average() functions in NumPy. When would you use one over the\n",
        "other?"
      ],
      "metadata": {
        "id": "S2fqEs3hmwUM"
      }
    },
    {
      "cell_type": "code",
      "source": [],
      "metadata": {
        "id": "OqJ1GQZMniPh"
      },
      "execution_count": null,
      "outputs": []
    },
    {
      "cell_type": "code",
      "source": [
        "#the main diffrence is that np.average()  it can calculate the weihted average.\n",
        "\n",
        "#other wise you can use np.mean() for faster calculation."
      ],
      "metadata": {
        "id": "0ljpS1TCmwvB"
      },
      "execution_count": null,
      "outputs": []
    },
    {
      "cell_type": "markdown",
      "source": [
        "3. Describe the methods for reversing a NumPy array along different axes. Provide examples for 1D and 2D\n",
        "arrays."
      ],
      "metadata": {
        "id": "0buRZBFwnvw_"
      }
    },
    {
      "cell_type": "code",
      "source": [
        "#NumPy provides methods to reverse arrays along specific axes.\n",
        "#This can be useful for various operations, such as reversing the order of elements in a sequence or reversing the direction of a matrix.\n",
        "\n",
        "#1D array:\n",
        "import numpy as np\n",
        "\n",
        "arr = np.array([1, 2, 3, 4, 5])\n",
        "reversed_arr = arr[::-1]\n",
        "\n",
        "print(reversed_arr)\n",
        "\n",
        "\n",
        "\n",
        "#2D array:\n",
        "arr1=np.array([[1,2,3],\n",
        "               [4,5,6]])\n",
        "reversed_arr1=arr1[::-1]\n",
        "print(reversed_arr1)\n",
        "\n",
        "\n",
        "\n",
        "\n",
        "\n"
      ],
      "metadata": {
        "colab": {
          "base_uri": "https://localhost:8080/"
        },
        "id": "9pEP_pfSnomm",
        "outputId": "c897413f-a556-4334-c1ce-4a602d1ce4d4"
      },
      "execution_count": null,
      "outputs": [
        {
          "output_type": "stream",
          "name": "stdout",
          "text": [
            "[5 4 3 2 1]\n",
            "[[4 5 6]\n",
            " [1 2 3]]\n"
          ]
        }
      ]
    },
    {
      "cell_type": "markdown",
      "source": [
        "4. How can you determine the data type of elements in a NumPy array? Discuss the importance of data types\n",
        "in memory management and performance."
      ],
      "metadata": {
        "id": "DOOPD5MLpgS_"
      }
    },
    {
      "cell_type": "code",
      "source": [
        "#arr.dtype  The most direct way is to access the dtype attribute of the array:\n",
        "\n",
        "#Data types are important for memory management because they determine the amount of memory allocated to each element.\n",
        "\n",
        "#For example, int8 uses 1 byte of memory while int64 uses 8 bytes.\n",
        "\n",
        "#Using the correct data type can reduce memory usage and improve performance, especially when dealing with large datasets.\n",
        "\n",
        "\n",
        "\n",
        "arr = np.array([1, 2, 3], dtype=np.int8)\n",
        "print(arr.dtype)\n",
        "\n",
        "arr = np.array([1, 2, 3], dtype=np.int64)\n",
        "print(arr.dtype)"
      ],
      "metadata": {
        "colab": {
          "base_uri": "https://localhost:8080/"
        },
        "id": "4qapT1tGoe-Z",
        "outputId": "fe1f9016-6a34-462d-f192-9806734f238b"
      },
      "execution_count": null,
      "outputs": [
        {
          "output_type": "stream",
          "name": "stdout",
          "text": [
            "int8\n",
            "int64\n"
          ]
        }
      ]
    },
    {
      "cell_type": "markdown",
      "source": [
        "5. Define ndarrays in NumPy and explain their key features. How do they differ from standard Python lists?"
      ],
      "metadata": {
        "id": "odXyO_p-Ying"
      }
    },
    {
      "cell_type": "code",
      "source": [
        "#n-dimensional arrays) are the fundamental data structure in NumPy.\n",
        "#They are homogeneous collections of elements of the same data type, organized in a multidimensional grid.\n",
        "#This grid is defined by a tuple of integers called the shape of the array, which specifies the size of the array along each dimension."
      ],
      "metadata": {
        "id": "DRVdw_2xqjGt"
      },
      "execution_count": 1,
      "outputs": []
    },
    {
      "cell_type": "markdown",
      "source": [
        "6. Analyze the performance benefits of NumPy arrays over Python lists for large-scale numerical operations."
      ],
      "metadata": {
        "id": "D6OxxW7JaRnP"
      }
    },
    {
      "cell_type": "code",
      "source": [
        "\n",
        "# pre-compiled code for numerical operations.\n",
        "# NumPy arrays offer substantial performance advantages over Python lists for large-scale numerical operations.\n",
        "#The contiguous memory allocation, vectorized operations, data type optimization, and hardware optimization of NumPy arrays contribute to significant speed improvements, especially when dealing with large datasets and complex computations."
      ],
      "metadata": {
        "id": "GQ1ubqTGZagN"
      },
      "execution_count": 2,
      "outputs": []
    },
    {
      "cell_type": "markdown",
      "source": [
        "7. Compare vstack() and hstack() functions in NumPy. Provide examples demonstrating their usage and\n",
        "output."
      ],
      "metadata": {
        "id": "ocJGwhfIbGRj"
      }
    },
    {
      "cell_type": "code",
      "source": [
        "import numpy as np\n",
        "\n",
        "a = np.array([1, 2, 3])\n",
        "b = np.array([4, 5, 6])\n",
        "\n",
        "# Stack vertically\n",
        "\n",
        "# vertical Stacks. arrays creating a new array with the same number of columns\n",
        "#as the input arrays and a total number of rows equal to the sum of the rows in the input arrays.\n",
        "stack1 = np.vstack((a, b))\n",
        "\n",
        "# Stack horizontally\n",
        "\n",
        "# horizontal stack.  creating a new array with the same number of rows as the input arrays and a total number of columns equal to the sum of the columns in the input arrays.\n",
        "stack2 = np.hstack((a, b))\n",
        "\n",
        "print(stack1)\n",
        "print(stack2)\n"
      ],
      "metadata": {
        "colab": {
          "base_uri": "https://localhost:8080/"
        },
        "id": "Dzs_3296aywo",
        "outputId": "0aac5e9d-21f0-419a-959a-4c1e7f1ad2c3"
      },
      "execution_count": 5,
      "outputs": [
        {
          "output_type": "stream",
          "name": "stdout",
          "text": [
            "[[1 2 3]\n",
            " [4 5 6]]\n",
            "[1 2 3 4 5 6]\n"
          ]
        }
      ]
    },
    {
      "cell_type": "markdown",
      "source": [
        "8. Explain the differences between fliplr() and flipud() methods in NumPy, including their effects on various\n",
        "array dimensions."
      ],
      "metadata": {
        "id": "k--UYiC-c9Y2"
      }
    },
    {
      "cell_type": "code",
      "source": [
        "#fliplr()\n",
        "#Reverses the order of elements along the last axis (columns).\n",
        "\n",
        "#effect1D array: Reverses the order of elements.\n",
        "#effect2D array: Reverses the order of columns.\n",
        "#effect3D array: Reverses the order of columns in each 2D slice along the first two axes.\n",
        "#effect Higher dimensions: Reverses the order of elements along the last axis.\n",
        "\n",
        "#flipud()\n",
        "#Reverses the order of elements along the first axis (rows).\n",
        "#Effect on different dimensions:\n",
        "#1D array: Reverses the order of elements.\n",
        "#2D array: Reverses the order of rows.\n",
        "#3D array: Reverses the order of rows in each 2D slice along the last two axes.\n",
        "#Higher dimensions: Reverses the order of elements along the first axis."
      ],
      "metadata": {
        "id": "zUuFt0pTbY2p"
      },
      "execution_count": 6,
      "outputs": []
    },
    {
      "cell_type": "markdown",
      "source": [
        "9. Discuss the functionality of the array_split() method in NumPy. How does it handle uneven splits?"
      ],
      "metadata": {
        "id": "92xosdV2d1_f"
      }
    },
    {
      "cell_type": "code",
      "source": [
        "#array_split() function allows uneven splits and handles any remaining elements.\n",
        "#While split() divides the array into equal-sized sub-arrays, array_split() can handle uneven splits\n",
        "\n",
        "\n",
        "#Handling Uneven Splits\n",
        "\n",
        "#If the array cannot be split evenly, array_split() makes the best effort to create sub-arrays of roughly equal size.\n",
        "#any \"leftover\" elements are added to the last sub-array.\n",
        "#This behavior is different from split(), which raises an error if an even split is not possible."
      ],
      "metadata": {
        "id": "MLmorH3ydwfQ"
      },
      "execution_count": 7,
      "outputs": []
    },
    {
      "cell_type": "markdown",
      "source": [
        "10. Explain the concepts of vectorization and broadcasting in NumPy. How do they contribute to efficient array\n",
        "operations?"
      ],
      "metadata": {
        "id": "vqAF7fxrifKS"
      }
    },
    {
      "cell_type": "code",
      "source": [
        "#vectorization\n",
        "# Performing operations on entire arrays instead of individual elements using loops.\n",
        "\n",
        "# Vectorized code is often more readable and compact.\n",
        "\n",
        "\n",
        "#broadcasting\n",
        "# Applying operations between arrays with different shapes, subject to certain rules.\n",
        "#NumPy automatically expands the dimensions of smaller arrays to match larger ones, enabling element-wise operations.\n",
        "# Broadcasting allows NumPy to automatically adjust the shape of arrays to make element-wise operations compatible, even if the arrays have different shapes.\n",
        "\n"
      ],
      "metadata": {
        "id": "keKEhFTPgVcm"
      },
      "execution_count": 8,
      "outputs": []
    },
    {
      "cell_type": "code",
      "source": [],
      "metadata": {
        "id": "V3PpOWypjq2L"
      },
      "execution_count": null,
      "outputs": []
    },
    {
      "cell_type": "markdown",
      "source": [
        "#Practical Questions:"
      ],
      "metadata": {
        "id": "Q60GH_NKjwKO"
      }
    },
    {
      "cell_type": "markdown",
      "source": [
        "1. Create a 3x3 NumPy array with random integers between 1 and 100. Then, interchange its rows and columns."
      ],
      "metadata": {
        "id": "OFhnFRVvj3St"
      }
    },
    {
      "cell_type": "code",
      "source": [
        "ar=np.random.randint(1,200 , (3,3))\n",
        "print(f\"before interchange:{ar}\")\n",
        "interchanged_ar=ar.T\n",
        "print(f\"after interchange: {interchanged_ar}\")"
      ],
      "metadata": {
        "colab": {
          "base_uri": "https://localhost:8080/"
        },
        "id": "Pbu7pFjIjxh1",
        "outputId": "366c8a90-c8be-4a06-ea10-e869c06bc7ea"
      },
      "execution_count": 11,
      "outputs": [
        {
          "output_type": "stream",
          "name": "stdout",
          "text": [
            "before interchange:[[159 189 154]\n",
            " [141 166  36]\n",
            " [133  18  42]]\n",
            "after interchange: [[159 141 133]\n",
            " [189 166  18]\n",
            " [154  36  42]]\n"
          ]
        }
      ]
    },
    {
      "cell_type": "markdown",
      "source": [
        "2. Generate a 1D NumPy array with 10 elements. Reshape it into a 2x5 array, then into a 5x2 array.2. Generate a 1D NumPy array with 10 elements. Reshape it into a 2x5 array, then into a 5x2 array."
      ],
      "metadata": {
        "id": "dK-JO8vek_Fc"
      }
    },
    {
      "cell_type": "code",
      "source": [
        "#1d Array\n",
        "\n",
        "arr= np.arange(10)\n",
        "print(f\"1D array: {arr}\")\n",
        "\n",
        "#reshape in to 2*5\n",
        "arr1=arr.reshape(2,5)\n",
        "print(f\"2*5 array: {arr1}\")\n",
        "\n",
        "#reshape in to 5*2\n",
        "arr2=arr1.reshape(5,2)\n",
        "print(f\"5*2 array: {arr2}\")"
      ],
      "metadata": {
        "colab": {
          "base_uri": "https://localhost:8080/"
        },
        "id": "Ngsp3Wp5kOhd",
        "outputId": "47ffa669-b7e6-43a1-cb37-53141f913fe9"
      },
      "execution_count": 15,
      "outputs": [
        {
          "output_type": "stream",
          "name": "stdout",
          "text": [
            "1D array: [0 1 2 3 4 5 6 7 8 9]\n",
            "2*5 array: [[0 1 2 3 4]\n",
            " [5 6 7 8 9]]\n",
            "5*2 array: [[0 1]\n",
            " [2 3]\n",
            " [4 5]\n",
            " [6 7]\n",
            " [8 9]]\n"
          ]
        }
      ]
    },
    {
      "cell_type": "code",
      "source": [],
      "metadata": {
        "id": "2PKjsk8DlJw8"
      },
      "execution_count": null,
      "outputs": []
    },
    {
      "cell_type": "markdown",
      "source": [
        "3. Create a 4x4 NumPy array with random float values. Add a border of zeros around it, resulting in a 6x6 array"
      ],
      "metadata": {
        "id": "hiEHvwmqlvlh"
      }
    },
    {
      "cell_type": "code",
      "source": [
        "arr=np.random.rand(4,4)\n",
        "print(f\"random floating values:{arr}\")\n",
        "\n",
        "arr1 = np.pad(arr, pad_width=1, mode='constant', constant_values=0)\n",
        "\n",
        "print(f\"after adding the border of 0 :{arr1}\")"
      ],
      "metadata": {
        "colab": {
          "base_uri": "https://localhost:8080/"
        },
        "id": "4UdjB-cZlwKt",
        "outputId": "0e4542f4-4850-4eb8-bfa0-c60343cee7e1"
      },
      "execution_count": 19,
      "outputs": [
        {
          "output_type": "stream",
          "name": "stdout",
          "text": [
            "random floating values:[[0.58509604 0.8809825  0.01784671 0.89655584]\n",
            " [0.42655492 0.4432797  0.17951812 0.5390446 ]\n",
            " [0.41521051 0.68327766 0.07342208 0.36768532]\n",
            " [0.86062998 0.32507304 0.84590977 0.38111224]]\n",
            "after adding the border of 0 :[[0.         0.         0.         0.         0.         0.        ]\n",
            " [0.         0.58509604 0.8809825  0.01784671 0.89655584 0.        ]\n",
            " [0.         0.42655492 0.4432797  0.17951812 0.5390446  0.        ]\n",
            " [0.         0.41521051 0.68327766 0.07342208 0.36768532 0.        ]\n",
            " [0.         0.86062998 0.32507304 0.84590977 0.38111224 0.        ]\n",
            " [0.         0.         0.         0.         0.         0.        ]]\n"
          ]
        }
      ]
    },
    {
      "cell_type": "markdown",
      "source": [
        "4. Using NumPy, create an array of integers from 10 to 60 with a step of 5."
      ],
      "metadata": {
        "id": "FDBwXhH8nDMn"
      }
    },
    {
      "cell_type": "code",
      "source": [
        "arr=np.arange(10,61,5)\n",
        "print(arr)"
      ],
      "metadata": {
        "colab": {
          "base_uri": "https://localhost:8080/"
        },
        "id": "phbP3ON9l-pt",
        "outputId": "94e53f15-bb14-4be7-d88c-ec2c0bb9ad22"
      },
      "execution_count": 22,
      "outputs": [
        {
          "output_type": "stream",
          "name": "stdout",
          "text": [
            "[10 15 20 25 30 35 40 45 50 55 60]\n"
          ]
        }
      ]
    },
    {
      "cell_type": "markdown",
      "source": [
        "5. Create a NumPy array of strings ['python', 'numpy', 'pandas']. Apply different case transformations\n",
        "(uppercase, lowercase, title case, etc.) to each element."
      ],
      "metadata": {
        "id": "0pfCsxhUniTV"
      }
    },
    {
      "cell_type": "code",
      "source": [
        "arr=np.array(['python', 'numpy', 'pandas'])\n",
        "print(f\"original array: {arr}\")\n",
        "\n",
        "upr=np.char.upper(arr)\n",
        "print(f\"uppercase: {upr}\")\n",
        "\n",
        "lower=np.char.lower(arr)\n",
        "print(f\"lowercase: {lower}\")\n",
        "\n",
        "title=np.char.title(arr)\n",
        "print(f\"title case: {title}\")"
      ],
      "metadata": {
        "colab": {
          "base_uri": "https://localhost:8080/"
        },
        "id": "IlNp5I5enJYV",
        "outputId": "fb681041-ac9a-48ae-d788-e74f22bac503"
      },
      "execution_count": 23,
      "outputs": [
        {
          "output_type": "stream",
          "name": "stdout",
          "text": [
            "original array: ['python' 'numpy' 'pandas']\n",
            "uppercase: ['PYTHON' 'NUMPY' 'PANDAS']\n",
            "lowercase: ['python' 'numpy' 'pandas']\n",
            "title case: ['Python' 'Numpy' 'Pandas']\n"
          ]
        }
      ]
    },
    {
      "cell_type": "markdown",
      "source": [
        "6. Generate a NumPy array of words. Insert a space between each character of every word in the array."
      ],
      "metadata": {
        "id": "hXpdx7NqoCjG"
      }
    },
    {
      "cell_type": "code",
      "source": [
        "\n",
        "\n",
        "\n",
        "ar= np.array(['hey', 'my', 'self','Anant'])\n",
        "\n",
        "\n",
        "# Inserting space between each char\n",
        "np.char.join(' ', ar)\n",
        "\n"
      ],
      "metadata": {
        "colab": {
          "base_uri": "https://localhost:8080/"
        },
        "id": "anA11WAun6hy",
        "outputId": "453de71c-db43-42a1-8474-9c8ec3ea2373"
      },
      "execution_count": 24,
      "outputs": [
        {
          "output_type": "execute_result",
          "data": {
            "text/plain": [
              "array(['h e y', 'm y', 's e l f', 'A n a n t'], dtype='<U9')"
            ]
          },
          "metadata": {},
          "execution_count": 24
        }
      ]
    },
    {
      "cell_type": "code",
      "source": [],
      "metadata": {
        "id": "BAm_Ju3oomKh"
      },
      "execution_count": null,
      "outputs": []
    },
    {
      "cell_type": "markdown",
      "source": [
        "7. Create two 2D NumPy arrays and perform element-wise addition, subtraction, multiplication, and division."
      ],
      "metadata": {
        "id": "OryiBJ8Fot4B"
      }
    },
    {
      "cell_type": "code",
      "source": [
        "arr1=np.array([[2,3],[4,6]])\n",
        "arr2=np.array([[7,9],[10,12]])\n",
        "\n",
        "print(f\"addition: {arr1+arr2}\")#addition\n",
        "print(f\"subtraction: {arr1-arr2}\")#subtraction\n",
        "print(f\"multiplication: {arr1*arr2}\")#multiplication\n",
        "print(f\"division: {arr1/arr2}\")#division\n"
      ],
      "metadata": {
        "colab": {
          "base_uri": "https://localhost:8080/"
        },
        "id": "YWq5B2ZFousD",
        "outputId": "90477358-52f4-4c7f-e4b9-bfd2d725fbe1"
      },
      "execution_count": 25,
      "outputs": [
        {
          "output_type": "stream",
          "name": "stdout",
          "text": [
            "addition: [[ 9 12]\n",
            " [14 18]]\n",
            "subtraction: [[-5 -6]\n",
            " [-6 -6]]\n",
            "multiplication: [[14 27]\n",
            " [40 72]]\n",
            "division: [[0.28571429 0.33333333]\n",
            " [0.4        0.5       ]]\n"
          ]
        }
      ]
    },
    {
      "cell_type": "markdown",
      "source": [
        "8. Use NumPy to create a 5x5 identity matrix, then extract its diagonal elements."
      ],
      "metadata": {
        "id": "8gq4oXX-pYUv"
      }
    },
    {
      "source": [
        "\n",
        "matrix = np.identity(5)\n",
        "print(matrix)\n",
        "# Extract diagonal elements using diag()\n",
        "diag = np.diag(identity_matrix)\n",
        "print(f\"digonal{diag}\")\n",
        "\n"
      ],
      "cell_type": "code",
      "metadata": {
        "colab": {
          "base_uri": "https://localhost:8080/"
        },
        "id": "zSef6332pglP",
        "outputId": "fe7761ab-a195-4636-c998-f0b64b5c530f"
      },
      "execution_count": 30,
      "outputs": [
        {
          "output_type": "stream",
          "name": "stdout",
          "text": [
            "[[1. 0. 0. 0. 0.]\n",
            " [0. 1. 0. 0. 0.]\n",
            " [0. 0. 1. 0. 0.]\n",
            " [0. 0. 0. 1. 0.]\n",
            " [0. 0. 0. 0. 1.]]\n",
            "digonal[1. 1. 1. 1. 1.]\n"
          ]
        }
      ]
    },
    {
      "cell_type": "markdown",
      "source": [
        "9. Generate a NumPy array of 100 random integers between 0 and 1000. Find and display all prime numbers in\n",
        "this array."
      ],
      "metadata": {
        "id": "RiJA7MgfqN1N"
      }
    },
    {
      "cell_type": "code",
      "source": [
        "import numpy as np\n",
        "\n",
        "def is_prime(n):\n",
        "  if n <= 1:\n",
        "    return False\n",
        "  for i in range(2, int(n**0.5) + 1):\n",
        "    if n % i == 0:\n",
        "      return False\n",
        "  return True\n",
        "\n",
        "\n",
        "arr = np.random.randint(0, 1001, size=100)#array  of 100 radom int between 0 , 1000\n",
        "\n",
        "\n",
        "prime_numbers = arr[np.vectorize(is_prime)(arr)]\n",
        "print(f\"prime numbers:{prime_numbers}\")\n"
      ],
      "metadata": {
        "colab": {
          "base_uri": "https://localhost:8080/"
        },
        "id": "UsxeMUSipk4o",
        "outputId": "d3ad2dbc-307d-420f-bf0e-fda35f59af74"
      },
      "execution_count": 38,
      "outputs": [
        {
          "output_type": "stream",
          "name": "stdout",
          "text": [
            "prime numbers:[599  11 587 101 599 439  41 881 257 709 977 641]\n"
          ]
        }
      ]
    },
    {
      "cell_type": "markdown",
      "source": [
        "10. Create a NumPy array representing daily temperatures for a month. Calculate and display the weekly\n",
        "averages."
      ],
      "metadata": {
        "id": "GU8RkMLJt8b3"
      }
    },
    {
      "cell_type": "code",
      "source": [
        "\n",
        "\n",
        "# Assuming 28 days in the month\n",
        "daily_temp = np.random.randint(35, 43, size=28)\n",
        "\n",
        "\n",
        "# Reshape into weeks\n",
        "weekly_temp = daily_temp.reshape(-1, 7)\n",
        "print(f\"weekly temp:{weekly_temp}\")\n",
        "# Calculate weekly averages\n",
        "weekly_averages = np.mean(weekly_temperatures, axis=1)\n",
        "print(f\"weekly_avg:{weekly_averages}\")\n",
        "\n"
      ],
      "metadata": {
        "colab": {
          "base_uri": "https://localhost:8080/"
        },
        "id": "YesY9osBx2X9",
        "outputId": "94bb5383-6870-4627-c4d2-e96465b901c9"
      },
      "execution_count": 58,
      "outputs": [
        {
          "output_type": "stream",
          "name": "stdout",
          "text": [
            "weekly temp:[[41 41 36 36 36 39 40]\n",
            " [38 40 36 37 35 38 37]\n",
            " [40 41 37 41 40 35 37]\n",
            " [40 42 35 37 37 39 36]]\n",
            "weekly_avg:[27.71428571 28.14285714 25.14285714 27.71428571]\n"
          ]
        }
      ]
    },
    {
      "cell_type": "code",
      "source": [],
      "metadata": {
        "id": "PUAO5oFWx7jq"
      },
      "execution_count": null,
      "outputs": []
    }
  ]
}